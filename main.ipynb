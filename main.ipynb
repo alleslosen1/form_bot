{
 "cells": [
  {
   "cell_type": "code",
   "execution_count": 28,
   "id": "51c2c720",
   "metadata": {},
   "outputs": [],
   "source": [
    "from functools import reduce\n",
    "import random as rand\n",
    "import time\n",
    "from selenium import webdriver\n",
    "from selenium.webdriver.chrome.service import Service\n",
    "from selenium.webdriver.common.by import By\n",
    "from webdriver_manager.chrome import ChromeDriverManager\n",
    "from selenium.webdriver.support.ui import WebDriverWait\n",
    "from selenium.webdriver.support import expected_conditions as EC\n",
    "\n",
    "weights = []\n",
    "k = int\n",
    "form_url = \"https://docs.google.com/forms/d/e/1FAIpQLSdYTZb8v-wVrk5GU2QDCmG-t8EGSAyDHRiLTduYxGlwxmCBcQ/viewform?usp=header\""
   ]
  },
  {
   "cell_type": "code",
   "execution_count": 29,
   "id": "161bc325",
   "metadata": {},
   "outputs": [],
   "source": [
    "def prompt_weights():\n",
    "    rand.seed(333666999)\n",
    "    q_counter = 1\n",
    "    try:\n",
    "        responses = int(input('Enter number of responses: '))\n",
    "    except Exception as e:\n",
    "        print(f'Error - {e}')\n",
    "\n",
    "    while True:\n",
    "        weight = input(f'Enter weights for question {q_counter}: ')\n",
    "        if weight == 'x':\n",
    "            break\n",
    "        weight = weight.split(' ')\n",
    "        if weight[0] == 'd':\n",
    "            weight = [int(i) for i in weight[1:]]\n",
    "            weight = [bool(rand.randint(1, 100) <= i) for i in weight]\n",
    "            weights.append(weight)\n",
    "        else:\n",
    "            try:\n",
    "                weight = [int(i) for i in weight]\n",
    "                weights.append(rand.choices(range(len(weight)), weight, k=responses))\n",
    "            except Exception as e:\n",
    "                print(f'Error - {e}')\n",
    "        q_counter += 1\n",
    "    print(weights)"
   ]
  },
  {
   "cell_type": "code",
   "execution_count": 30,
   "id": "b407f209",
   "metadata": {},
   "outputs": [],
   "source": [
    "def open():\n",
    "    global glob_chrome_options\n",
    "    global glob_driver\n",
    "    \n",
    "    glob_chrome_options = webdriver.ChromeOptions()\n",
    "    # glob_chrome_options.add_argument('--headless')\n",
    "    glob_chrome_options.add_experimental_option(\"detach\", True)\n",
    "    glob_driver = webdriver.Chrome(service=Service(ChromeDriverManager(driver_version=\"139.0.7258.128\").install()), options=glob_chrome_options)\n",
    "    glob_driver.get(form_url)"
   ]
  },
  {
   "cell_type": "code",
   "execution_count": 31,
   "id": "9ca678f6",
   "metadata": {},
   "outputs": [],
   "source": [
    "def find_next():\n",
    "    try:\n",
    "        nexts = WebDriverWait(glob_driver, 3).until(\n",
    "            EC.presence_of_all_elements_located((By.CSS_SELECTOR, 'span[class*=NPEfkd]')))\n",
    "        return nexts[-2]\n",
    "    except Exception as e:\n",
    "        print(f'Failed to find next button: {e}')\n"
   ]
  },
  {
   "cell_type": "code",
   "execution_count": 32,
   "id": "5405042d",
   "metadata": {},
   "outputs": [],
   "source": [
    "def fill_qs():\n",
    "    for iter in range(len(weights[0])):\n",
    "        open()\n",
    "        hasNext = True\n",
    "        total_q_counter = 0\n",
    "        while hasNext:\n",
    "            try:\n",
    "                parent_qs = glob_driver.find_elements(By.XPATH, '//div[@class=\"Qr7Oae\" and not(contains(@class, \"pQK2A\"))]')\n",
    "                for i in range(len(parent_qs)):\n",
    "                    if len(parent_qs[i].find_elements(By.XPATH, './/div[contains(@class, \"AB7Lab\")]')) != 0:    # radio\n",
    "                        elems = parent_qs[i].find_elements(By.XPATH, './/div[contains(@class, \"AB7Lab\")]')\n",
    "                        elems[weights[total_q_counter][iter]].click()\n",
    "\n",
    "                    elif len(parent_qs[i].find_elements(By.XPATH, './/div[contains(@class, \"uHMk6b\")]')) != 0:  # checkbox\n",
    "                        elems = parent_qs[i].find_elements(By.XPATH, './/div[contains(@class, \"uHMk6b\")]')\n",
    "                        for j in range(len(elems)):\n",
    "                            if weights[total_q_counter][j]:\n",
    "                                elems[j].click()\n",
    "                                \n",
    "                    elif len(glob_driver.find_elements(By.XPATH, './/span[@class=\"vRMGwf oJeWuf\" and text()=\"Choose\"]')) != 0:  # dropdown\n",
    "                        chooses = glob_driver.find_elements(By.XPATH, './/span[@class=\"vRMGwf oJeWuf\" and text()=\"Choose\"]')\n",
    "                        chooses[i].click()\n",
    "                        time.sleep(0.7)\n",
    "                        ddbox = parent_qs[i].find_element(By.XPATH, '//div[@class=\"OA0qNb ncFHed QXL7Te\"]')\n",
    "                        elems = ddbox.find_elements(By.XPATH, './/div[@class=\"MocG8c HZ3kWc mhLiyf OIC90c LMgvRb\"]')\n",
    "                        elems[weights[total_q_counter][iter]].click()\n",
    "                        time.sleep(0.5)\n",
    "                    total_q_counter += 1\n",
    "\n",
    "                next = find_next()\n",
    "                if next.get_attribute('textContent').lower() != 'next':\n",
    "                    hasNext = False\n",
    "                else: \n",
    "                    next.click()\n",
    "                time.sleep(1)\n",
    "                \n",
    "            except Exception as e:\n",
    "                print(f'Error - {e}')\n",
    "                glob_driver.quit()\n",
    "                break\n",
    "        \n",
    "        submit = glob_driver.find_elements(By.CSS_SELECTOR, 'span[class*=NPEfkd]')\n",
    "        submit[-2].click()\n",
    "        time.sleep(0.5)\n",
    "        glob_driver.quit()\n",
    "    "
   ]
  },
  {
   "cell_type": "code",
   "execution_count": 33,
   "id": "d89390dd",
   "metadata": {},
   "outputs": [
    {
     "name": "stdout",
     "output_type": "stream",
     "text": [
      "[[0, 2, 2, 0, 2, 2, 0, 0, 1], [0, 2, 0, 0, 2, 0, 1, 1, 1], [1, 1, 2, 2, 0, 2, 1, 2, 1], [False, False, False], [True, False, True], [False, False, False], [2, 0, 2, 1, 0, 2, 2, 0, 1], [0, 2, 1, 0, 2, 1, 0, 1, 0], [2, 1, 0, 2, 0, 2, 2, 1, 0]]\n"
     ]
    }
   ],
   "source": [
    "prompt_weights()"
   ]
  },
  {
   "cell_type": "code",
   "execution_count": 34,
   "id": "49cdfafd",
   "metadata": {},
   "outputs": [
    {
     "ename": "KeyboardInterrupt",
     "evalue": "",
     "output_type": "error",
     "traceback": [
      "\u001b[31m---------------------------------------------------------------------------\u001b[39m",
      "\u001b[31mTimeoutError\u001b[39m                              Traceback (most recent call last)",
      "\u001b[36mFile \u001b[39m\u001b[32mc:\\Users\\Jeff\\AppData\\Local\\Programs\\Python\\Python312\\Lib\\socket.py:850\u001b[39m, in \u001b[36mcreate_connection\u001b[39m\u001b[34m(address, timeout, source_address, all_errors)\u001b[39m\n\u001b[32m    849\u001b[39m     sock.bind(source_address)\n\u001b[32m--> \u001b[39m\u001b[32m850\u001b[39m \u001b[43msock\u001b[49m\u001b[43m.\u001b[49m\u001b[43mconnect\u001b[49m\u001b[43m(\u001b[49m\u001b[43msa\u001b[49m\u001b[43m)\u001b[49m\n\u001b[32m    851\u001b[39m \u001b[38;5;66;03m# Break explicitly a reference cycle\u001b[39;00m\n",
      "\u001b[31mTimeoutError\u001b[39m: timed out",
      "\nDuring handling of the above exception, another exception occurred:\n",
      "\u001b[31mKeyboardInterrupt\u001b[39m                         Traceback (most recent call last)",
      "\u001b[36mCell\u001b[39m\u001b[36m \u001b[39m\u001b[32mIn[34]\u001b[39m\u001b[32m, line 1\u001b[39m\n\u001b[32m----> \u001b[39m\u001b[32m1\u001b[39m \u001b[43mfill_qs\u001b[49m\u001b[43m(\u001b[49m\u001b[43m)\u001b[49m\n",
      "\u001b[36mCell\u001b[39m\u001b[36m \u001b[39m\u001b[32mIn[32]\u001b[39m\u001b[32m, line 45\u001b[39m, in \u001b[36mfill_qs\u001b[39m\u001b[34m()\u001b[39m\n\u001b[32m     43\u001b[39m submit[-\u001b[32m2\u001b[39m].click()\n\u001b[32m     44\u001b[39m time.sleep(\u001b[32m0.5\u001b[39m)\n\u001b[32m---> \u001b[39m\u001b[32m45\u001b[39m \u001b[43mglob_driver\u001b[49m\u001b[43m.\u001b[49m\u001b[43mquit\u001b[49m\u001b[43m(\u001b[49m\u001b[43m)\u001b[49m\n",
      "\u001b[36mFile \u001b[39m\u001b[32mc:\\Users\\Jeff\\AppData\\Local\\Programs\\Python\\Python312\\Lib\\site-packages\\selenium\\webdriver\\chromium\\webdriver.py:193\u001b[39m, in \u001b[36mChromiumDriver.quit\u001b[39m\u001b[34m(self)\u001b[39m\n\u001b[32m    191\u001b[39m     \u001b[38;5;28;01mpass\u001b[39;00m\n\u001b[32m    192\u001b[39m \u001b[38;5;28;01mfinally\u001b[39;00m:\n\u001b[32m--> \u001b[39m\u001b[32m193\u001b[39m     \u001b[38;5;28;43mself\u001b[39;49m\u001b[43m.\u001b[49m\u001b[43mservice\u001b[49m\u001b[43m.\u001b[49m\u001b[43mstop\u001b[49m\u001b[43m(\u001b[49m\u001b[43m)\u001b[49m\n",
      "\u001b[36mFile \u001b[39m\u001b[32mc:\\Users\\Jeff\\AppData\\Local\\Programs\\Python\\Python312\\Lib\\site-packages\\selenium\\webdriver\\common\\service.py:152\u001b[39m, in \u001b[36mService.stop\u001b[39m\u001b[34m(self)\u001b[39m\n\u001b[32m    150\u001b[39m \u001b[38;5;28;01mif\u001b[39;00m \u001b[38;5;28mself\u001b[39m.process \u001b[38;5;129;01mis\u001b[39;00m \u001b[38;5;129;01mnot\u001b[39;00m \u001b[38;5;28;01mNone\u001b[39;00m:\n\u001b[32m    151\u001b[39m     \u001b[38;5;28;01mtry\u001b[39;00m:\n\u001b[32m--> \u001b[39m\u001b[32m152\u001b[39m         \u001b[38;5;28;43mself\u001b[39;49m\u001b[43m.\u001b[49m\u001b[43msend_remote_shutdown_command\u001b[49m\u001b[43m(\u001b[49m\u001b[43m)\u001b[49m\n\u001b[32m    153\u001b[39m     \u001b[38;5;28;01mexcept\u001b[39;00m \u001b[38;5;167;01mTypeError\u001b[39;00m:\n\u001b[32m    154\u001b[39m         \u001b[38;5;28;01mpass\u001b[39;00m\n",
      "\u001b[36mFile \u001b[39m\u001b[32mc:\\Users\\Jeff\\AppData\\Local\\Programs\\Python\\Python312\\Lib\\site-packages\\selenium\\webdriver\\common\\service.py:137\u001b[39m, in \u001b[36mService.send_remote_shutdown_command\u001b[39m\u001b[34m(self)\u001b[39m\n\u001b[32m    134\u001b[39m     \u001b[38;5;28;01mreturn\u001b[39;00m\n\u001b[32m    136\u001b[39m \u001b[38;5;28;01mfor\u001b[39;00m _ \u001b[38;5;129;01min\u001b[39;00m \u001b[38;5;28mrange\u001b[39m(\u001b[32m30\u001b[39m):\n\u001b[32m--> \u001b[39m\u001b[32m137\u001b[39m     \u001b[38;5;28;01mif\u001b[39;00m \u001b[38;5;129;01mnot\u001b[39;00m \u001b[38;5;28;43mself\u001b[39;49m\u001b[43m.\u001b[49m\u001b[43mis_connectable\u001b[49m\u001b[43m(\u001b[49m\u001b[43m)\u001b[49m:\n\u001b[32m    138\u001b[39m         \u001b[38;5;28;01mbreak\u001b[39;00m\n\u001b[32m    139\u001b[39m     sleep(\u001b[32m1\u001b[39m)\n",
      "\u001b[36mFile \u001b[39m\u001b[32mc:\\Users\\Jeff\\AppData\\Local\\Programs\\Python\\Python312\\Lib\\site-packages\\selenium\\webdriver\\common\\service.py:126\u001b[39m, in \u001b[36mService.is_connectable\u001b[39m\u001b[34m(self)\u001b[39m\n\u001b[32m    123\u001b[39m \u001b[38;5;28;01mdef\u001b[39;00m\u001b[38;5;250m \u001b[39m\u001b[34mis_connectable\u001b[39m(\u001b[38;5;28mself\u001b[39m) -> \u001b[38;5;28mbool\u001b[39m:\n\u001b[32m    124\u001b[39m \u001b[38;5;250m    \u001b[39m\u001b[33;03m\"\"\"Establishes a socket connection to determine if the service running\u001b[39;00m\n\u001b[32m    125\u001b[39m \u001b[33;03m    on the port is accessible.\"\"\"\u001b[39;00m\n\u001b[32m--> \u001b[39m\u001b[32m126\u001b[39m     \u001b[38;5;28;01mreturn\u001b[39;00m \u001b[43mutils\u001b[49m\u001b[43m.\u001b[49m\u001b[43mis_connectable\u001b[49m\u001b[43m(\u001b[49m\u001b[38;5;28;43mself\u001b[39;49m\u001b[43m.\u001b[49m\u001b[43mport\u001b[49m\u001b[43m)\u001b[49m\n",
      "\u001b[36mFile \u001b[39m\u001b[32mc:\\Users\\Jeff\\AppData\\Local\\Programs\\Python\\Python312\\Lib\\site-packages\\selenium\\webdriver\\common\\utils.py:101\u001b[39m, in \u001b[36mis_connectable\u001b[39m\u001b[34m(port, host)\u001b[39m\n\u001b[32m     99\u001b[39m socket_ = \u001b[38;5;28;01mNone\u001b[39;00m\n\u001b[32m    100\u001b[39m \u001b[38;5;28;01mtry\u001b[39;00m:\n\u001b[32m--> \u001b[39m\u001b[32m101\u001b[39m     socket_ = \u001b[43msocket\u001b[49m\u001b[43m.\u001b[49m\u001b[43mcreate_connection\u001b[49m\u001b[43m(\u001b[49m\u001b[43m(\u001b[49m\u001b[43mhost\u001b[49m\u001b[43m,\u001b[49m\u001b[43m \u001b[49m\u001b[43mport\u001b[49m\u001b[43m)\u001b[49m\u001b[43m,\u001b[49m\u001b[43m \u001b[49m\u001b[32;43m1\u001b[39;49m\u001b[43m)\u001b[49m\n\u001b[32m    102\u001b[39m     result = \u001b[38;5;28;01mTrue\u001b[39;00m\n\u001b[32m    103\u001b[39m \u001b[38;5;28;01mexcept\u001b[39;00m _is_connectable_exceptions:\n",
      "\u001b[36mFile \u001b[39m\u001b[32mc:\\Users\\Jeff\\AppData\\Local\\Programs\\Python\\Python312\\Lib\\socket.py:857\u001b[39m, in \u001b[36mcreate_connection\u001b[39m\u001b[34m(address, timeout, source_address, all_errors)\u001b[39m\n\u001b[32m    855\u001b[39m \u001b[38;5;28;01mexcept\u001b[39;00m error \u001b[38;5;28;01mas\u001b[39;00m exc:\n\u001b[32m    856\u001b[39m     \u001b[38;5;28;01mif\u001b[39;00m \u001b[38;5;129;01mnot\u001b[39;00m all_errors:\n\u001b[32m--> \u001b[39m\u001b[32m857\u001b[39m         \u001b[43mexceptions\u001b[49m\u001b[43m.\u001b[49m\u001b[43mclear\u001b[49m\u001b[43m(\u001b[49m\u001b[43m)\u001b[49m  \u001b[38;5;66;03m# raise only the last error\u001b[39;00m\n\u001b[32m    858\u001b[39m     exceptions.append(exc)\n\u001b[32m    859\u001b[39m     \u001b[38;5;28;01mif\u001b[39;00m sock \u001b[38;5;129;01mis\u001b[39;00m \u001b[38;5;129;01mnot\u001b[39;00m \u001b[38;5;28;01mNone\u001b[39;00m:\n",
      "\u001b[31mKeyboardInterrupt\u001b[39m: "
     ]
    }
   ],
   "source": [
    "fill_qs()"
   ]
  },
  {
   "cell_type": "code",
   "execution_count": null,
   "id": "02b5ab78",
   "metadata": {},
   "outputs": [],
   "source": [
    "glob_driver.quit()"
   ]
  }
 ],
 "metadata": {
  "kernelspec": {
   "display_name": "Python 3",
   "language": "python",
   "name": "python3"
  },
  "language_info": {
   "codemirror_mode": {
    "name": "ipython",
    "version": 3
   },
   "file_extension": ".py",
   "mimetype": "text/x-python",
   "name": "python",
   "nbconvert_exporter": "python",
   "pygments_lexer": "ipython3",
   "version": "3.12.5"
  }
 },
 "nbformat": 4,
 "nbformat_minor": 5
}
