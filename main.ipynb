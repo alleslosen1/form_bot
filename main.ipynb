{
 "cells": [
  {
   "cell_type": "code",
   "execution_count": 1,
   "id": "51c2c720",
   "metadata": {},
   "outputs": [],
   "source": [
    "from functools import reduce\n",
    "import random as rand\n",
    "import time\n",
    "from selenium import webdriver\n",
    "from selenium.webdriver.chrome.service import Service\n",
    "from selenium.webdriver.common.by import By\n",
    "from webdriver_manager.chrome import ChromeDriverManager\n",
    "from selenium.webdriver.support.ui import WebDriverWait\n",
    "from selenium.webdriver.support import expected_conditions as EC\n",
    "\n",
    "weights = []\n",
    "k = int\n",
    "form_url = \"https://docs.google.com/forms/d/e/1FAIpQLSdYTZb8v-wVrk5GU2QDCmG-t8EGSAyDHRiLTduYxGlwxmCBcQ/viewform?usp=header\""
   ]
  },
  {
   "cell_type": "code",
   "execution_count": 3,
   "id": "161bc325",
   "metadata": {},
   "outputs": [],
   "source": [
    "def prompt_weights():\n",
    "    rand.seed(333666999)\n",
    "    q_counter = 1\n",
    "    try:\n",
    "        responses = int(input('Enter number of responses: '))\n",
    "    except Exception as e:\n",
    "        print(f'Error - {e}')\n",
    "\n",
    "    while True:\n",
    "        weight = input(f'Enter weights for question {q_counter}: ')\n",
    "        if weight == 'x':\n",
    "            break\n",
    "        else:\n",
    "            try:\n",
    "                weight = [int(i) for i in weight.split(' ')]\n",
    "                weights.append(rand.choices(range(len(weight)), weight, k=responses))\n",
    "                q_counter += 1\n",
    "            except Exception as e:\n",
    "                print(f'Error - {e}')\n",
    "        \n",
    "    print(weights)"
   ]
  },
  {
   "cell_type": "code",
   "execution_count": 4,
   "id": "b407f209",
   "metadata": {},
   "outputs": [],
   "source": [
    "def open():\n",
    "    global glob_chrome_options\n",
    "    global glob_driver\n",
    "    \n",
    "    glob_chrome_options = webdriver.ChromeOptions()\n",
    "    # glob_chrome_options.add_argument('--headless')\n",
    "    glob_chrome_options.add_experimental_option(\"detach\", True)\n",
    "    glob_driver = webdriver.Chrome(service=Service(ChromeDriverManager(driver_version=\"139.0.7258.128\").install()), options=glob_chrome_options)\n",
    "    glob_driver.get(form_url)"
   ]
  },
  {
   "cell_type": "code",
   "execution_count": null,
   "id": "9ca678f6",
   "metadata": {},
   "outputs": [],
   "source": [
    "def find_next():\n",
    "    try:\n",
    "        nexts = WebDriverWait(glob_driver, 3).until(\n",
    "            EC.presence_of_all_elements_located((By.CSS_SELECTOR, 'span[class*=NPEfkd]')))\n",
    "        return nexts[-2]\n",
    "    except Exception as e:\n",
    "        print(f'Failed to find next button: {e}')\n"
   ]
  },
  {
   "cell_type": "code",
   "execution_count": 28,
   "id": "5405042d",
   "metadata": {},
   "outputs": [],
   "source": [
    "def fill_qs():\n",
    "    for iter in range(len(weights[0])):\n",
    "        open()\n",
    "        hasNext = True\n",
    "        total_q_counter = 0\n",
    "        while hasNext:\n",
    "            try:\n",
    "                parent_qs = glob_driver.find_elements(By.XPATH, '//div[@class=\"Qr7Oae\" and not(contains(@class, \"pQK2A\"))]')\n",
    "                for i in range(len(parent_qs)):\n",
    "                    if len(parent_qs[i].find_elements(By.XPATH, './/div[contains(@class, \"AB7Lab\")]')) != 0:    # radio\n",
    "                        elems = parent_qs[i].find_elements(By.XPATH, './/div[contains(@class, \"AB7Lab\")]')\n",
    "                        elems[weights[total_q_counter][iter]].click()\n",
    "\n",
    "                    elif len(parent_qs[i].find_elements(By.XPATH, './/div[contains(@class, \"uHMk6b\")]')) != 0:  # checkbox\n",
    "                        elems = parent_qs[i].find_elements(By.XPATH, './/div[contains(@class, \"uHMk6b\")]')\n",
    "                        elems[weights[total_q_counter][iter]].click()\n",
    "\n",
    "                    elif len(glob_driver.find_elements(By.XPATH, './/span[@class=\"vRMGwf oJeWuf\" and text()=\"Choose\"]')) != 0:  # dropdown\n",
    "                        chooses = glob_driver.find_elements(By.XPATH, './/span[@class=\"vRMGwf oJeWuf\" and text()=\"Choose\"]')\n",
    "                        chooses[i].click()\n",
    "                        time.sleep(0.7)\n",
    "                        ddbox = parent_qs[i].find_element(By.XPATH, '//div[@class=\"OA0qNb ncFHed QXL7Te\"]')\n",
    "                        elems = ddbox.find_elements(By.XPATH, './/div[@class=\"MocG8c HZ3kWc mhLiyf OIC90c LMgvRb\"]')\n",
    "                        elems[weights[total_q_counter][iter]].click()\n",
    "                        time.sleep(0.5)\n",
    "                    total_q_counter += 1\n",
    "\n",
    "                next = find_next()\n",
    "                if next.get_attribute('textContent').lower() != 'next':\n",
    "                    hasNext = False\n",
    "                else: \n",
    "                    next.click()\n",
    "                time.sleep(1)\n",
    "                \n",
    "            except Exception as e:\n",
    "                print(f'Error - {e}')\n",
    "                glob_driver.quit()\n",
    "        \n",
    "        submit = glob_driver.find_elements(By.CSS_SELECTOR, 'span[class*=NPEfkd]')\n",
    "        submit[-2].click()\n",
    "        time.sleep(0.5)\n",
    "        glob_driver.quit()\n",
    "    "
   ]
  },
  {
   "cell_type": "code",
   "execution_count": 6,
   "id": "d89390dd",
   "metadata": {},
   "outputs": [
    {
     "name": "stdout",
     "output_type": "stream",
     "text": [
      "[[1, 2, 2], [1, 2, 2], [1, 1, 2], [1, 2, 1], [0, 2, 0], [2, 2, 1], [1, 2, 2], [2, 0, 2], [1, 2, 1]]\n"
     ]
    }
   ],
   "source": [
    "prompt_weights()"
   ]
  },
  {
   "cell_type": "code",
   "execution_count": 29,
   "id": "49cdfafd",
   "metadata": {},
   "outputs": [],
   "source": [
    "fill_qs()"
   ]
  },
  {
   "cell_type": "code",
   "execution_count": null,
   "id": "02b5ab78",
   "metadata": {},
   "outputs": [],
   "source": [
    "glob_driver.quit()"
   ]
  }
 ],
 "metadata": {
  "kernelspec": {
   "display_name": "Python 3",
   "language": "python",
   "name": "python3"
  },
  "language_info": {
   "codemirror_mode": {
    "name": "ipython",
    "version": 3
   },
   "file_extension": ".py",
   "mimetype": "text/x-python",
   "name": "python",
   "nbconvert_exporter": "python",
   "pygments_lexer": "ipython3",
   "version": "3.12.5"
  }
 },
 "nbformat": 4,
 "nbformat_minor": 5
}
